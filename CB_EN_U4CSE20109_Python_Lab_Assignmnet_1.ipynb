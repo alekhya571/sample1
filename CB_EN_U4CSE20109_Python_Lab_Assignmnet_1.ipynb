{
  "nbformat": 4,
  "nbformat_minor": 0,
  "metadata": {
    "colab": {
      "provenance": [],
      "collapsed_sections": [],
      "authorship_tag": "ABX9TyPG0f3HwG54afTBA54f3aEw",
      "include_colab_link": true
    },
    "kernelspec": {
      "name": "python3",
      "display_name": "Python 3"
    },
    "language_info": {
      "name": "python"
    }
  },
  "cells": [
    {
      "cell_type": "markdown",
      "metadata": {
        "id": "view-in-github",
        "colab_type": "text"
      },
      "source": [
        "<a href=\"https://colab.research.google.com/github/alekhya571/sample1/blob/main/CB_EN_U4CSE20109_Python_Lab_Assignmnet_1.ipynb\" target=\"_parent\"><img src=\"https://colab.research.google.com/assets/colab-badge.svg\" alt=\"Open In Colab\"/></a>"
      ]
    },
    {
      "cell_type": "code",
      "metadata": {
        "colab": {
          "base_uri": "https://localhost:8080/"
        },
        "id": "xr4_VWr_yyaq",
        "outputId": "138cd912-4c7c-40dc-c7c1-e0d78cbead03"
      },
      "source": [
        "#1\n",
        "print(\"Twinkle, twinkle, little star,\\n\\tHow I wonder what you are!\\n\\t\\tUp above the world so high,\\n\\t\\tLike a diamond in the sky. \\nTwinkle, twinkle, little star, \\n\\tHow I wonder what you are\")"
      ],
      "execution_count": null,
      "outputs": [
        {
          "output_type": "stream",
          "name": "stdout",
          "text": [
            "Twinkle, twinkle, little star,\n",
            "\tHow I wonder what you are!\n",
            "\t\tUp above the world so high,\n",
            "\t\tLike a diamond in the sky. \n",
            "Twinkle, twinkle, little star, \n",
            "\tHow I wonder what you are\n"
          ]
        }
      ]
    },
    {
      "cell_type": "code",
      "metadata": {
        "colab": {
          "base_uri": "https://localhost:8080/"
        },
        "id": "Ohzt83OyzVIG",
        "outputId": "13ad3871-c35d-4f06-854f-bf8cf70724b4"
      },
      "source": [
        "#2\n",
        "PI = 3.14\n",
        "r = float(input(\"Enter radius of a circle:\"))\n",
        "area = PI * r * r\n",
        "print(\"Area of a circle = %.3f\" %area)"
      ],
      "execution_count": null,
      "outputs": [
        {
          "output_type": "stream",
          "name": "stdout",
          "text": [
            "Enter radius of a circle:3\n",
            "Area of a circle = 28.260\n"
          ]
        }
      ]
    },
    {
      "cell_type": "code",
      "metadata": {
        "colab": {
          "base_uri": "https://localhost:8080/"
        },
        "id": "c4-APWwHzeDP",
        "outputId": "b3789eb1-30d8-4578-9dd6-55821d4a44f8"
      },
      "source": [
        "#3\n",
        "print('My', 'Name', 'Is', 'James', sep='**')"
      ],
      "execution_count": null,
      "outputs": [
        {
          "output_type": "stream",
          "name": "stdout",
          "text": [
            "My**Name**Is**James\n"
          ]
        }
      ]
    },
    {
      "cell_type": "code",
      "metadata": {
        "id": "G354RNyxzlqt",
        "colab": {
          "base_uri": "https://localhost:8080/"
        },
        "outputId": "abc9697b-0f96-4a38-8cc4-786c178278c3"
      },
      "source": [
        "#4\n",
        "a = input(\"Enter a String : \")\n",
        "if len(a)>0:\n",
        "    a1 = a[0]\n",
        "    a = a.replace(a1,\"$\")\n",
        "    print(a)\n",
        "    a = a1 + a[1:]\n",
        "    print(a)"
      ],
      "execution_count": null,
      "outputs": [
        {
          "output_type": "stream",
          "name": "stdout",
          "text": [
            "Enter a String : restart\n",
            "$esta$t\n",
            "resta$t\n"
          ]
        }
      ]
    },
    {
      "cell_type": "code",
      "metadata": {
        "colab": {
          "base_uri": "https://localhost:8080/"
        },
        "id": "ovJrQPvO1cp6",
        "outputId": "95733f9e-182b-429c-b79b-42a38c3810c0"
      },
      "source": [
        "#5\n",
        "a=input(\"Enter a string 1 : \")\n",
        "b=input(\"Enter a string 2 : \")\n",
        "c=b[0:2]+a[2:]\n",
        "d=a[0:2]+b[2:]\n",
        "print(c + \" \" + d)"
      ],
      "execution_count": null,
      "outputs": [
        {
          "output_type": "stream",
          "name": "stdout",
          "text": [
            "Enter a string 1 : abc\n",
            "Enter a string 2 : xyz\n",
            "xyc abz\n"
          ]
        }
      ]
    },
    {
      "cell_type": "code",
      "metadata": {
        "id": "VVqvDl9r1jFv",
        "colab": {
          "base_uri": "https://localhost:8080/"
        },
        "outputId": "4cb94085-6648-4b47-c8c0-5e7589061b2f"
      },
      "source": [
        "#6\n",
        "a=input(\"Enter a string 1 : \")\n",
        "b=input(\"Enter a string 2 : \")\n",
        "c=b[:2]+a[2:]\n",
        "d=a[:2]+b[2:]\n",
        "print(c + \" \" + d)"
      ],
      "execution_count": null,
      "outputs": [
        {
          "output_type": "stream",
          "name": "stdout",
          "text": [
            "Enter a string 1 : abc\n",
            "Enter a string 2 : xyz\n",
            "xyc abz\n"
          ]
        }
      ]
    },
    {
      "cell_type": "code",
      "metadata": {
        "colab": {
          "base_uri": "https://localhost:8080/"
        },
        "id": "7R_yH67N2OlF",
        "outputId": "ee31be0b-9512-4d13-9186-9a2fe02de947"
      },
      "source": [
        "#7\n",
        "a=input(\"Enter a string : \")\n",
        "b=\"\"\n",
        "for i in range(len(a)):\n",
        "  if (i%2==0):\n",
        "    b= b + a[i]\n",
        "print(b)"
      ],
      "execution_count": null,
      "outputs": [
        {
          "output_type": "stream",
          "name": "stdout",
          "text": [
            "Enter a string : PYTHON\n",
            "PTO\n"
          ]
        }
      ]
    },
    {
      "cell_type": "code",
      "metadata": {
        "colab": {
          "base_uri": "https://localhost:8080/"
        },
        "id": "qg-tEaGl21hO",
        "outputId": "cc7bf243-f9b8-4511-d3fd-9015fe188280"
      },
      "source": [
        "#8\n",
        "d={'0':\"10\",'1':\"20\"}\n",
        "print(\"Before adding key : \")\n",
        "print(d)\n",
        "d.update({'2':\"30\"})\n",
        "print(\"After adding key : \")\n",
        "print(d)"
      ],
      "execution_count": null,
      "outputs": [
        {
          "output_type": "stream",
          "name": "stdout",
          "text": [
            "Before adding key : \n",
            "{'0': '10', '1': '20'}\n",
            "After adding key : \n",
            "{'0': '10', '1': '20', '2': '30'}\n"
          ]
        }
      ]
    },
    {
      "cell_type": "code",
      "metadata": {
        "colab": {
          "base_uri": "https://localhost:8080/"
        },
        "id": "LrrenpOn3HzW",
        "outputId": "77d79f4f-dca1-448d-fa2b-3573a0c8ddc8"
      },
      "source": [
        "#9\n",
        "d1={1:10, 2:20}\n",
        "d2={3:30, 4:40}\n",
        "d3={5:50,6:60}\n",
        "d4 = {}\n",
        "for d in (d1, d2, d3): \n",
        "  d4.update(d)\n",
        "print(d4)\n"
      ],
      "execution_count": null,
      "outputs": [
        {
          "output_type": "stream",
          "name": "stdout",
          "text": [
            "{1: 10, 2: 20, 3: 30, 4: 40, 5: 50, 6: 60}\n"
          ]
        }
      ]
    },
    {
      "cell_type": "code",
      "metadata": {
        "colab": {
          "base_uri": "https://localhost:8080/"
        },
        "id": "M1ZDwK0F3ioI",
        "outputId": "7a66dfcb-a6ad-4974-b561-e031f3485c83"
      },
      "source": [
        "#10\n",
        "d={'1':\"10\",'2':\"20\",'3':\"30\"}\n",
        "i=input(\"Enter the key : \")\n",
        "if i in d.keys():\n",
        "  print(\"Present \")\n",
        "else:\n",
        "    print(\"Not present\")"
      ],
      "execution_count": null,
      "outputs": [
        {
          "output_type": "stream",
          "name": "stdout",
          "text": [
            "Enter the key : 2\n",
            "Present \n"
          ]
        }
      ]
    },
    {
      "cell_type": "code",
      "metadata": {
        "colab": {
          "base_uri": "https://localhost:8080/"
        },
        "id": "q5l8n_pP3uTQ",
        "outputId": "9fe6c7c4-a619-4e7c-b774-fd7d6a706f00"
      },
      "source": [
        "#11\n",
        "tup=(10,20,30,40)\n",
        "print(tup[2])"
      ],
      "execution_count": null,
      "outputs": [
        {
          "output_type": "stream",
          "name": "stdout",
          "text": [
            "30\n"
          ]
        }
      ]
    },
    {
      "cell_type": "code",
      "metadata": {
        "colab": {
          "base_uri": "https://localhost:8080/"
        },
        "id": "En-zgMEQ350d",
        "outputId": "90220eaf-0bfc-4bad-de17-865eddf2e631"
      },
      "source": [
        "#12\n",
        "tup=(10,20,30,40,50,60,70,80)\n",
        "print(tup[3])\n",
        "print(tup[len(tup)-4])"
      ],
      "execution_count": null,
      "outputs": [
        {
          "output_type": "stream",
          "name": "stdout",
          "text": [
            "40\n",
            "50\n"
          ]
        }
      ]
    },
    {
      "cell_type": "code",
      "metadata": {
        "colab": {
          "base_uri": "https://localhost:8080/"
        },
        "id": "L5imLxNQ4Si8",
        "outputId": "2d76d840-0ef2-4fb4-aedd-ff1507989122"
      },
      "source": [
        "#13\n",
        "lis=[10,20,30,40]\n",
        "tup=tuple(lis)\n",
        "print(type(lis))\n",
        "print(type(tup))\n",
        "print(tup)"
      ],
      "execution_count": null,
      "outputs": [
        {
          "output_type": "stream",
          "name": "stdout",
          "text": [
            "<class 'list'>\n",
            "<class 'tuple'>\n",
            "(10, 20, 30, 40)\n"
          ]
        }
      ]
    },
    {
      "cell_type": "code",
      "metadata": {
        "id": "M7uBGon44stR",
        "colab": {
          "base_uri": "https://localhost:8080/"
        },
        "outputId": "d48863b4-4ff4-4805-bf74-0478648cb86a"
      },
      "source": [
        "#14\n",
        "def average_tuple(nums):\n",
        "    result = [sum(x) / len(x) for x in zip(*nums)]\n",
        "    return result\n",
        "nums = ((10, 10, 10, 12), (30, 45, 56, 45), (81, 80, 39, 32), (1, 2, 3, 4))\n",
        "print (\"Original Tuple: \")\n",
        "print(nums)\n",
        "print(\"\\nAverage value of the numbers of the said tuple of tuples:\\n\",average_tuple(nums))\n",
        "nums = ((1, 1, -5), (30, -15, 56), (81, -60, -39), (-10, 2, 3))\n",
        "print (\"\\nOriginal Tuple: \")\n",
        "print(nums)\n",
        "print(\"\\nAverage value of the numbers of the said tuple of tuples:\\n\",average_tuple(nums))"
      ],
      "execution_count": null,
      "outputs": [
        {
          "output_type": "stream",
          "name": "stdout",
          "text": [
            "<class 'list'>\n",
            "<class 'tuple'>\n",
            "(10, 20, 30, 40)\n"
          ]
        }
      ]
    },
    {
      "cell_type": "code",
      "metadata": {
        "colab": {
          "base_uri": "https://localhost:8080/"
        },
        "id": "HtTtGphT4tPq",
        "outputId": "e643f81c-bdca-4af6-ac52-719fd4ddfd06"
      },
      "source": [
        "#15\n",
        "colors = (('Red', 'White', 'Blue'),('Green', 'Pink', 'Purple'),('Orange', 'Yellow', 'Lime'))\n",
        "print(\"Original list:\")\n",
        "print(colors)\n",
        "c1 =input(\"Enter any color :- \")\n",
        "print(\"\\nCheck if\",c1,\"present in said tuple of tuples!\")\n",
        "if (c1 in tup for tup in colors):\n",
        "  print(\"Present\")\n",
        "else:\n",
        "    print(\"Not present\")"
      ],
      "execution_count": null,
      "outputs": [
        {
          "output_type": "stream",
          "name": "stdout",
          "text": [
            "Original list:\n",
            "(('Red', 'White', 'Blue'), ('Green', 'Pink', 'Purple'), ('Orange', 'Yellow', 'Lime'))\n",
            "Enter any color :- pink\n",
            "\n",
            "Check if pink present in said tuple of tuples!\n",
            "Present\n"
          ]
        }
      ]
    },
    {
      "cell_type": "code",
      "metadata": {
        "id": "V4TtvaTm5GPi",
        "colab": {
          "base_uri": "https://localhost:8080/"
        },
        "outputId": "1399db85-c4e6-43f3-c3c9-60bf602403fb"
      },
      "source": [
        "#16\n",
        "a={10,20,30}\n",
        "type(a)\n",
        "f=\"yes\"\n",
        "while f or Yes:\n",
        "  d=input(\"Enter the number to add in Set :- \")\n",
        "  a.update({d})\n",
        "  print(a)\n",
        "  e=input(\"Do you want to add another number :- \")\n",
        "  if(e==\"No\" or e==\"no\"):\n",
        "    break"
      ],
      "execution_count": null,
      "outputs": [
        {
          "name": "stdout",
          "output_type": "stream",
          "text": [
            "Enter the number to add in Set :- 10\n",
            "{10, 20, 30, '10'}\n",
            "Do you want to add another number :- no\n"
          ]
        }
      ]
    },
    {
      "cell_type": "code",
      "metadata": {
        "colab": {
          "base_uri": "https://localhost:8080/"
        },
        "id": "VjMGQpWTCs5I",
        "outputId": "b79dbe45-9b0b-43d4-fdf0-be17e498b93d"
      },
      "source": [
        "#17\n",
        "a={10,20,30}\n",
        "print(\"Before removing elements :- \")\n",
        "print(a)\n",
        "print(type(a))\n",
        "a.pop()\n",
        "print(\"After removing the first element:- \")\n",
        "print(a)"
      ],
      "execution_count": null,
      "outputs": [
        {
          "output_type": "stream",
          "name": "stdout",
          "text": [
            "Before removing elements :- \n",
            "{10, 20, 30}\n",
            "<class 'set'>\n",
            "After removing the first element:- \n",
            "{20, 30}\n"
          ]
        }
      ]
    },
    {
      "cell_type": "code",
      "metadata": {
        "colab": {
          "base_uri": "https://localhost:8080/"
        },
        "id": "Vf6zrLTBCs-2",
        "outputId": "236afd1f-72e5-4c18-e77f-d9a6c0c76e31"
      },
      "source": [
        "#18\n",
        "s1={\"10\",\"20\"}\n",
        "s2={\"20\",\"30\"}\n",
        "print(\"Original set elements:\")\n",
        "print(s1)\n",
        "print(s2)\n",
        "print(\"Intersection of two sets :\")\n",
        "print(s1 & s2)"
      ],
      "execution_count": null,
      "outputs": [
        {
          "output_type": "stream",
          "name": "stdout",
          "text": [
            "Original set elements:\n",
            "{'20', '10'}\n",
            "{'30', '20'}\n",
            "Intersection of two sets :\n",
            "{'20'}\n"
          ]
        }
      ]
    },
    {
      "cell_type": "code",
      "metadata": {
        "colab": {
          "base_uri": "https://localhost:8080/"
        },
        "id": "6hgckm-DDtqQ",
        "outputId": "d714065c-6ff2-4802-d877-17f31176aa2c"
      },
      "source": [
        "#19\n",
        "s1={\"10\",\"20\",\"30\"}\n",
        "s2={\"30\",\"40\",\"50\"}\n",
        "print(\"Original set elements:\")\n",
        "print(s1)\n",
        "print(s2)\n",
        "print(\"Difference of set1 - set2 :\")\n",
        "print(s1 - s2)\n"
      ],
      "execution_count": null,
      "outputs": [
        {
          "output_type": "stream",
          "name": "stdout",
          "text": [
            "Original set elements:\n",
            "{'30', '20', '10'}\n",
            "{'50', '30', '40'}\n",
            "Difference of set1 - set2 :\n",
            "{'20', '10'}\n"
          ]
        }
      ]
    },
    {
      "cell_type": "code",
      "metadata": {
        "colab": {
          "base_uri": "https://localhost:8080/"
        },
        "id": "6HRiqCyoELhl",
        "outputId": "1569f6d4-bb6d-46d3-c2be-624894db20f2"
      },
      "source": [
        "#20\n",
        "a = [10,20,30,40]\n",
        "print(\"Before reversing the list: \")\n",
        "print(a)\n",
        "print(\"After reversing the list: \")\n",
        "print(a[::-1])"
      ],
      "execution_count": null,
      "outputs": [
        {
          "output_type": "stream",
          "name": "stdout",
          "text": [
            "Before reversing the list: \n",
            "[10, 20, 30, 40]\n",
            "After reversing the list: \n",
            "[40, 30, 20, 10]\n"
          ]
        }
      ]
    },
    {
      "cell_type": "code",
      "metadata": {
        "colab": {
          "base_uri": "https://localhost:8080/"
        },
        "id": "ADr2cuAiEg8K",
        "outputId": "d2140673-0091-4a63-8234-2174e09f1691"
      },
      "source": [
        "#21\n",
        "color = ['Red', 'Green', 'White', 'Black', 'Pink', 'Yellow']\n",
        "color = [x for (i,x) in enumerate(color) if i not in (0,4,5)]\n",
        "print(color)"
      ],
      "execution_count": null,
      "outputs": [
        {
          "output_type": "stream",
          "name": "stdout",
          "text": [
            "['Green', 'White', 'Black']\n"
          ]
        }
      ]
    },
    {
      "cell_type": "code",
      "metadata": {
        "colab": {
          "base_uri": "https://localhost:8080/"
        },
        "id": "mYLxpTybEpCf",
        "outputId": "1e7a7c9c-d245-4ec5-fd04-d7935cc26cf9"
      },
      "source": [
        "#22\n",
        "a= [23, 34, \"hello\", 32, 56] \n",
        "print(\"Total count of items are:\",len(a))"
      ],
      "execution_count": null,
      "outputs": [
        {
          "output_type": "stream",
          "name": "stdout",
          "text": [
            "Total count of items are: 5\n"
          ]
        }
      ]
    },
    {
      "cell_type": "code",
      "metadata": {
        "colab": {
          "base_uri": "https://localhost:8080/"
        },
        "id": "gZEQjNGOFLzw",
        "outputId": "5b3b4039-dab2-48b8-edb9-bfa9078d6cf3"
      },
      "source": [
        "#23\n",
        "a = [10,20,30,40]\n",
        "print(\"Before reversing the list: \")\n",
        "print(a)\n",
        "print(\"After reversing the list: \")\n",
        "print(a[::-1])"
      ],
      "execution_count": null,
      "outputs": [
        {
          "output_type": "stream",
          "name": "stdout",
          "text": [
            "Before reversing the list: \n",
            "[10, 20, 30, 40]\n",
            "After reversing the list: \n",
            "[40, 30, 20, 10]\n"
          ]
        }
      ]
    },
    {
      "cell_type": "code",
      "metadata": {
        "colab": {
          "base_uri": "https://localhost:8080/"
        },
        "id": "hzLahCY8FMB3",
        "outputId": "5082505e-77bd-405c-99bd-ad173f417ada"
      },
      "source": [
        "#24\n",
        "a = [1, 2, 3, 4, 5,6]\n",
        "print(\"List before squaring : \")\n",
        "print(a)\n",
        "print(\"List after squaring : \")\n",
        "for i in a:\n",
        "  print(i**2)"
      ],
      "execution_count": null,
      "outputs": [
        {
          "output_type": "stream",
          "name": "stdout",
          "text": [
            "List before squaring : \n",
            "[1, 2, 3, 4, 5, 6]\n",
            "List after squaring : \n",
            "1\n",
            "4\n",
            "9\n",
            "16\n",
            "25\n",
            "36\n"
          ]
        }
      ]
    },
    {
      "cell_type": "code",
      "metadata": {
        "colab": {
          "base_uri": "https://localhost:8080/"
        },
        "id": "IZ6wPAZeFMFO",
        "outputId": "53915a71-a26a-4d22-c434-774e214ab32c"
      },
      "source": [
        "#25\n",
        "a = [23, 45, 67, 8, 9]\n",
        "x=input(\"Enter item to insert: \")\n",
        "a.append(x)\n",
        "print(a)"
      ],
      "execution_count": null,
      "outputs": [
        {
          "output_type": "stream",
          "name": "stdout",
          "text": [
            "Enter item to insert: study\n",
            "[23, 45, 67, 8, 9, 'study']\n"
          ]
        }
      ]
    },
    {
      "cell_type": "code",
      "metadata": {
        "colab": {
          "base_uri": "https://localhost:8080/"
        },
        "id": "isya-G3AFq2K",
        "outputId": "1ea7bd82-860a-4ade-baf0-75494b7f0b0a"
      },
      "source": [
        "#26\n",
        "total = 0\n",
        "a = []\n",
        "num = int(input('How many numbers: '))\n",
        "for n in range(num):\n",
        "    numbers = int(input('Enter number '))\n",
        "    a.append(numbers) \n",
        "for ele in range(0, len(a)):\n",
        "    total = total + a[ele]\n",
        "# printing total value\n",
        "print(\"Sum of all elements in given list: \", total)"
      ],
      "execution_count": null,
      "outputs": [
        {
          "output_type": "stream",
          "name": "stdout",
          "text": [
            "How many numbers: 3\n",
            "Enter number 1\n",
            "Enter number 2\n",
            "Enter number 3\n",
            "Sum of all elements in given list:  6\n"
          ]
        }
      ]
    },
    {
      "cell_type": "code",
      "metadata": {
        "colab": {
          "base_uri": "https://localhost:8080/"
        },
        "id": "aZo5_ZcHH7Kr",
        "outputId": "34199d60-d553-46f2-8440-2f62a1d87515"
      },
      "source": [
        "#27\n",
        "a = []\n",
        "num = int(input('How many numbers:- '))\n",
        "for n in range(num):\n",
        "    numbers = int(input('Enter number '))\n",
        "    a.append(numbers)\n",
        "print(\"Maximum element in given list is :\", max(a))"
      ],
      "execution_count": null,
      "outputs": [
        {
          "output_type": "stream",
          "name": "stdout",
          "text": [
            "How many numbers:- 4\n",
            "Enter number 1\n",
            "Enter number 2\n",
            "Enter number 3\n",
            "Enter number 4\n",
            "Maximum element in given list is : 4\n"
          ]
        }
      ]
    },
    {
      "cell_type": "code",
      "metadata": {
        "colab": {
          "base_uri": "https://localhost:8080/"
        },
        "id": "Tulhm_qlCNhv",
        "outputId": "5b0cb021-9882-4b5e-e0eb-ea4ce1398fa2"
      },
      "source": [
        "#28\n",
        "n1 = float(input('Enter first number: '))\n",
        "n2 = float(input('Enter second number: '))\n",
        "sum = n1 + n2\n",
        "diff = n1-n2\n",
        "mul = n1*n2\n",
        "div = n1/n2\n",
        "print(\"The sum of the given numbers is %f \", sum)\n",
        "print(\"The difference of the given numbers is %f \", diff)\n",
        "print(\"The multiplication of the given numbers is %f \", mul)\n",
        "print(\"The division of the given numbers is %f \" ,div) "
      ],
      "execution_count": null,
      "outputs": [
        {
          "output_type": "stream",
          "name": "stdout",
          "text": [
            "Enter first number: 1\n",
            "Enter second number: 2\n",
            "The sum of the given numbers is %f  3.0\n",
            "The difference of the given numbers is %f  -1.0\n",
            "The multiplication of the given numbers is %f  2.0\n",
            "The division of the given numbers is %f  0.5\n"
          ]
        }
      ]
    },
    {
      "cell_type": "code",
      "metadata": {
        "colab": {
          "base_uri": "https://localhost:8080/"
        },
        "id": "oF7KXMmwHuzM",
        "outputId": "308b4b54-9747-4c2b-d820-03d201ae34c2"
      },
      "source": [
        "#29\n",
        "NumList1 = [10, 20, 30]\n",
        "NumList2 = [5, 2, 3]\n",
        "add = []\n",
        "sub = []\n",
        "multi = []\n",
        "div = []\n",
        "mod = []\n",
        "expo = []\n",
        "for j in range(3):\n",
        "    add.append( NumList1[j] + NumList2[j])\n",
        "    sub.append( NumList1[j] - NumList2[j])\n",
        "    multi.append( NumList1[j] * NumList2[j])\n",
        "    div.append( NumList1[j] / NumList2[j])\n",
        "    mod.append( NumList1[j] % NumList2[j])\n",
        "    expo.append( NumList1[j] ** NumList2[j])\n",
        "print(\"\\n The lists before operations are : \")\n",
        "print(NumList1)\n",
        "print(NumList2)\n",
        "print(\"\\nThe List Items after Addition =  \", add)\n",
        "print(\"The List Items after Subtraction =  \", sub)\n",
        "print(\"The List Items after Multiplication =  \", multi)\n",
        "print(\"The List Items after Division =  \", div)\n",
        "print(\"The List Items after Modulus =  \", mod)\n",
        "print(\"The List Items after Exponent =  \", expo)"
      ],
      "execution_count": null,
      "outputs": [
        {
          "output_type": "stream",
          "name": "stdout",
          "text": [
            "\n",
            " The lists before operations are : \n",
            "[10, 20, 30]\n",
            "[5, 2, 3]\n",
            "\n",
            "The List Items after Addition =   [15, 22, 33]\n",
            "The List Items after Subtraction =   [5, 18, 27]\n",
            "The List Items after Multiplication =   [50, 40, 90]\n",
            "The List Items after Division =   [2.0, 10.0, 10.0]\n",
            "The List Items after Modulus =   [0, 0, 0]\n",
            "The List Items after Exponent =   [100000, 400, 27000]\n"
          ]
        }
      ]
    },
    {
      "cell_type": "code",
      "metadata": {
        "colab": {
          "base_uri": "https://localhost:8080/"
        },
        "id": "sBsLn_pSC740",
        "outputId": "bbddd099-87f6-458d-ffdc-c0d353f5b007"
      },
      "source": [
        "#30\n",
        "a = [(2, 3), (4, 7), (8, 11), (3, 6)]\n",
        "print (\"The original list is : \" + str(a))\n",
        "r1 = min(a)[0], max(a)[0]\n",
        "r2 = min(a)[1], max(a)[1]\n",
        "print (\"The min and max of index 1 :  \" +  str(r1))\n",
        "print (\"The min and max of index 2 :  \" +  str(r2))"
      ],
      "execution_count": null,
      "outputs": [
        {
          "output_type": "stream",
          "name": "stdout",
          "text": [
            "The original list is : [(2, 3), (4, 7), (8, 11), (3, 6)]\n",
            "The min and max of index 1 :  (2, 8)\n",
            "The min and max of index 2 :  (3, 11)\n"
          ]
        }
      ]
    }
  ]
}